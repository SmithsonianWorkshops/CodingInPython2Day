{
 "cells": [
  {
   "cell_type": "markdown",
   "metadata": {},
   "source": [
    "One of the nice things about Python is that there are many easy-to-install packages that have already been created. This allows you to be much more productive. Conda also makes it easy to install these packages. One that we will use today is scikit-bio. To install it in conda, enter the command:\n",
    "```\n",
    "conda install scikit-bio\n",
    "```\n",
    "This will install scikit-bio and all of its dependencies."
   ]
  },
  {
   "cell_type": "markdown",
   "metadata": {},
   "source": [
    "Next, we'll need to `import` the library."
   ]
  },
  {
   "cell_type": "code",
   "execution_count": null,
   "metadata": {
    "collapsed": false
   },
   "outputs": [],
   "source": [
    "from skbio import DNA, read, GeneticCode"
   ]
  },
  {
   "cell_type": "code",
   "execution_count": null,
   "metadata": {
    "collapsed": false
   },
   "outputs": [],
   "source": [
    "with open(\"outfile.fasta\", \"w\") as outfile:\n",
    "    for seq in read('test_sequences.fasta', format='fasta'):\n",
    "        new_seq = DNA(seq)\n",
    "        for protein in new_seq.translate_six_frames():\n",
    "            if not protein.has_stops():\n",
    "                outfile.write(\">\" + str(new_seq.metadata['id']) + \"\\n\")\n",
    "                outfile.write(str(new_seq) + \"\\n\")"
   ]
  },
  {
   "cell_type": "code",
   "execution_count": null,
   "metadata": {
    "collapsed": false
   },
   "outputs": [],
   "source": [
    "!cat outfile.fasta"
   ]
  }
 ],
 "metadata": {
  "kernelspec": {
   "display_name": "Python 3",
   "language": "python",
   "name": "python3"
  },
  "language_info": {
   "codemirror_mode": {
    "name": "ipython",
    "version": 3
   },
   "file_extension": ".py",
   "mimetype": "text/x-python",
   "name": "python",
   "nbconvert_exporter": "python",
   "pygments_lexer": "ipython3",
   "version": "3.5.2"
  }
 },
 "nbformat": 4,
 "nbformat_minor": 0
}
