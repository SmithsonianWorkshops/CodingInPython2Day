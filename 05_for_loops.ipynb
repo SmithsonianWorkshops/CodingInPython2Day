{
 "cells": [
  {
   "cell_type": "markdown",
   "metadata": {},
   "source": [
    "# For Loops"
   ]
  },
  {
   "cell_type": "markdown",
   "metadata": {},
   "source": [
    "Automatically looping through a large list of things is one of the most useful things we can program a computer to do. Today we're going to follow on the DNA sequence string example from last class to show how we can use Python looping to calculate the GC content of a sequence."
   ]
  },
  {
   "cell_type": "markdown",
   "metadata": {},
   "source": [
    "We'll start with a random sample dna sequence like last time. Please change the value here to any sequence you like."
   ]
  },
  {
   "cell_type": "code",
   "execution_count": null,
   "metadata": {
    "collapsed": false
   },
   "outputs": [],
   "source": [
    "dna = 'agctcgatcgctaggctagct'\n",
    "print(dna)"
   ]
  },
  {
   "cell_type": "markdown",
   "metadata": {},
   "source": [
    "Similar to \"if statements\" we learned in last class, \"for loops\" in Python use the same indentation scheme.\n",
    "\n",
    "The typical structure for a \"for loop\" is:\n",
    "```\n",
    "for placeholder in iterable:\n",
    "(tab)Action to do during each loop\n",
    "```"
   ]
  },
  {
   "cell_type": "code",
   "execution_count": null,
   "metadata": {
    "collapsed": false
   },
   "outputs": [],
   "source": [
    "for nucleotide in dna:\n",
    "    print(nucleotide)"
   ]
  },
  {
   "cell_type": "markdown",
   "metadata": {},
   "source": [
    "Changing the place-holder variable does not change the variable you are iterating through."
   ]
  },
  {
   "cell_type": "code",
   "execution_count": null,
   "metadata": {
    "collapsed": false
   },
   "outputs": [],
   "source": [
    "for nucleotide in dna:\n",
    "    nucleotide = nucleotide.upper()\n",
    "    print(nucleotide)\n",
    "print(dna)"
   ]
  },
  {
   "cell_type": "markdown",
   "metadata": {},
   "source": [
    "Another valuable tool to use with Python for loops is the *range* function. https://docs.python.org/3/library/functions.html#func-range"
   ]
  },
  {
   "cell_type": "code",
   "execution_count": null,
   "metadata": {
    "collapsed": false
   },
   "outputs": [],
   "source": [
    "for i in range(5):\n",
    "    print(i)"
   ]
  },
  {
   "cell_type": "markdown",
   "metadata": {},
   "source": [
    "You can also \"nest\" for loops, like we learned with if statements."
   ]
  },
  {
   "cell_type": "code",
   "execution_count": null,
   "metadata": {
    "collapsed": false
   },
   "outputs": [],
   "source": [
    "for nucleotide in dna:\n",
    "    print(nucleotide)\n",
    "    for i in range(2):\n",
    "        print(i)"
   ]
  },
  {
   "cell_type": "markdown",
   "metadata": {},
   "source": [
    "Now for GC content example.\n",
    "GC content https://en.wikipedia.org/wiki/GC-content#Determination_of_GC_content\n",
    "![](https://wikimedia.org/api/rest_v1/media/math/render/svg/e410e5ddc49b232b2c5f3b43e0cad51edb2e621b)"
   ]
  },
  {
   "cell_type": "code",
   "execution_count": null,
   "metadata": {
    "collapsed": true
   },
   "outputs": [],
   "source": [
    "sequence_length = len(nucleotide)"
   ]
  },
  {
   "cell_type": "code",
   "execution_count": null,
   "metadata": {
    "collapsed": true
   },
   "outputs": [],
   "source": [
    "gc_cotent = 0\n",
    "for nucleotide in dna:\n",
    "    #Test if it's a g or a c\n",
    "        #If it is, increase gc_content by 1\n"
   ]
  }
 ],
 "metadata": {
  "celltoolbar": "Raw Cell Format",
  "kernelspec": {
   "display_name": "Python 3",
   "language": "python",
   "name": "python3"
  },
  "language_info": {
   "codemirror_mode": {
    "name": "ipython",
    "version": 3
   },
   "file_extension": ".py",
   "mimetype": "text/x-python",
   "name": "python",
   "nbconvert_exporter": "python",
   "pygments_lexer": "ipython3",
   "version": "3.5.1"
  }
 },
 "nbformat": 4,
 "nbformat_minor": 0
}
