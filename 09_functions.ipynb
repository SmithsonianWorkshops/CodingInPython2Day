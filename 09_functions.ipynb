{
 "cells": [
  {
   "cell_type": "markdown",
   "metadata": {},
   "source": [
    "# Functions"
   ]
  },
  {
   "cell_type": "markdown",
   "metadata": {},
   "source": [
    "Functions are a key component of programming. We have already used functions several times in this course. Some examples include `len()`, `range()`, and `max()`. In this section we will learn how to write our own functions. When programming, it often becomes important to conduct the same set of operations many times. Wrapping up these operations into a function allows us to write that code only once, then call the function each time that we want to conduct that particular set of operations. It also isolates that chunk of code into a single place, which really helps when we have to debug our code."
   ]
  },
  {
   "cell_type": "markdown",
   "metadata": {},
   "source": [
    "## Defining functions"
   ]
  },
  {
   "cell_type": "markdown",
   "metadata": {},
   "source": [
    "To define a function, we must follow some standard Python syntax. Say we want to create a function that adds two integers together. First, we must give it a name, such as `add_these`. To start this function, we use `def` followed by a unique name and parentheses:\n",
    "\n",
    "```\n",
    "def add_these():\n",
    "```\n",
    "\n",
    "In this case, we wish to add to integers, so we have to feed the function some arguments. We enclose these in the parentheses. This will allow us to accept numbers and add them together. Note that whatever the user feeds to the function will be automatically assigned to the variables `a` and `b` and **in that order**. If the user feeds too many or too few arguments to the function, it will result in an error.\n",
    "\n",
    "```\n",
    "def add_these(a, b):\n",
    "```\n",
    "\n",
    "Now we need to conduct the actual operation. In Python, anything that occurs within the function needs to be indented.\n",
    "\n",
    "```\n",
    "def add_these(a, b):\n",
    "    the_sum = a + b\n",
    "```\n",
    "\n",
    "Now we have the sum assigned to the variable `the_sum`. However, functions are blocks of code that are meant to stand alone. This also means that the variables that we set *within* the function are not accessible *outside* of the function. In order to end information out of the function, we must use a `return` statement. In this example, we will return `the_sum`.\n",
    "\n",
    "Let's go ahead and add this variable to our code in this notebook:"
   ]
  },
  {
   "cell_type": "code",
   "execution_count": null,
   "metadata": {
    "collapsed": true
   },
   "outputs": [],
   "source": [
    "def add_these(a, b):\n",
    "    the_sum = a + b\n",
    "    return the_sum"
   ]
  },
  {
   "cell_type": "markdown",
   "metadata": {},
   "source": [
    "In order to access the sum, we must set a variable equal to the function, and feed the function some arguments (the integers that we want to add)."
   ]
  },
  {
   "cell_type": "code",
   "execution_count": null,
   "metadata": {
    "collapsed": false
   },
   "outputs": [],
   "source": [
    "my_sum = add_these(1, 5)\n",
    "print(my_sum)"
   ]
  },
  {
   "cell_type": "markdown",
   "metadata": {},
   "source": [
    "You can imagine that a function like this could be pretty useful in a large program. Anytime that you need to add things together, you can simply invoke `add_these()`. If you discover that you've done something wrong in your function, you only have to correct a single block of code."
   ]
  },
  {
   "cell_type": "markdown",
   "metadata": {},
   "source": [
    "Let's use an example from our last exercise. Imagine that you write a program, where you need to estimate the GC content for many different sequences. To do this we can enclose some of the code from our exercise into a function that estimates GC content. Here is an example:"
   ]
  },
  {
   "cell_type": "code",
   "execution_count": null,
   "metadata": {
    "collapsed": true
   },
   "outputs": [],
   "source": [
    "def estimate_gc_content(sequence):\n",
    "    upper_sequence = sequence.upper()\n",
    "    gc = 0\n",
    "    at = 0\n",
    "    for nuc in sequence:\n",
    "        if nuc == \"C\" or nuc == \"G\":\n",
    "            gc += 1\n",
    "        elif nuc == \"A\" or nuc == \"T\":\n",
    "            at += 1\n",
    "        elif nuc == \"\\n\":\n",
    "            pass\n",
    "        else:\n",
    "            print(\"Warning: Uh oh, it looks like you have a character that is not A, C, T, or G.\" +\n",
    "                  \" This program only estimates GC content based on those characters. We\" +\n",
    "                  \" will move on, but check your file to make sure your results are consistent.\")\n",
    "    gc_cont = (gc/(at + gc))\n",
    "    return gc_cont"
   ]
  },
  {
   "cell_type": "markdown",
   "metadata": {},
   "source": [
    "Now that we have a nice, enclosed function to estimate GC content, our solution might look like this:"
   ]
  },
  {
   "cell_type": "code",
   "execution_count": null,
   "metadata": {
    "collapsed": false
   },
   "outputs": [],
   "source": [
    "seq_file = open(\"test_sequences.txt\")\n",
    "gc_cont_list = []\n",
    "for line in seq_file.readlines():\n",
    "    gc_cont = estimate_gc_content(line)\n",
    "    gc_cont_list.append(gc_cont)\n",
    "max_gc = max(gc_cont_list)\n",
    "print(\"Your maximum GC content is: \" + str(max_gc) + \"!\")\n",
    "seq_file.close()"
   ]
  },
  {
   "cell_type": "markdown",
   "metadata": {},
   "source": [
    "Now let's see what happens if we open a file that contains invalid nucleotides."
   ]
  },
  {
   "cell_type": "code",
   "execution_count": null,
   "metadata": {
    "collapsed": false
   },
   "outputs": [],
   "source": [
    "seq_file = open(\"sequences_with_errors.txt\")\n",
    "gc_cont_list = []\n",
    "for line in seq_file.readlines():\n",
    "    gc_cont = estimate_gc_content(line)\n",
    "    gc_cont_list.append(gc_cont)\n",
    "max_gc = max(gc_cont_list)\n",
    "print(\"Your maximum GC content is: \" + str(max_gc) + \"!\")\n",
    "seq_file.close()"
   ]
  },
  {
   "cell_type": "markdown",
   "metadata": {},
   "source": [
    "As you can see above, this code generated a lot of warnings, and it isn't clear whether we can trust the answer. A better method might be to raise an error that stops the program. To do this, we can use the command `raise`. In this case, we will raise a `ValueError`. Here is an updated function with these changes:"
   ]
  },
  {
   "cell_type": "code",
   "execution_count": null,
   "metadata": {
    "collapsed": true
   },
   "outputs": [],
   "source": [
    "def estimate_gc_content(sequence):\n",
    "    upper_sequence = sequence.upper()\n",
    "    gc = 0\n",
    "    at = 0\n",
    "    for nuc in sequence:\n",
    "        if nuc == \"C\" or nuc == \"G\":\n",
    "            gc += 1\n",
    "        elif nuc == \"A\" or nuc == \"T\":\n",
    "            at += 1\n",
    "        elif nuc == \"\\n\":\n",
    "            pass\n",
    "        else:\n",
    "            raise ValueError(\"Sorry, it looks like you have a nucleotide that is not valid, please fix your data.\")\n",
    "    gc_cont = (gc/(at + gc))\n",
    "    return gc_cont"
   ]
  },
  {
   "cell_type": "markdown",
   "metadata": {},
   "source": [
    "Now let's try running the sequence with errors again:"
   ]
  },
  {
   "cell_type": "code",
   "execution_count": null,
   "metadata": {
    "collapsed": false
   },
   "outputs": [],
   "source": [
    "seq_file = open(\"sequences_with_errors.txt\")\n",
    "gc_cont_list = []\n",
    "for line in seq_file.readlines():\n",
    "    gc_cont = estimate_gc_content(line)\n",
    "    gc_cont_list.append(gc_cont)\n",
    "max_gc = max(gc_cont_list)\n",
    "print(\"Your maximum GC content is: \" + str(max_gc) + \"!\")\n",
    "seq_file.close()"
   ]
  },
  {
   "cell_type": "markdown",
   "metadata": {},
   "source": [
    "Now the output is quite a bit more useful and we don't receive a dubious answer."
   ]
  },
  {
   "cell_type": "code",
   "execution_count": null,
   "metadata": {
    "collapsed": true
   },
   "outputs": [],
   "source": []
  }
 ],
 "metadata": {
  "anaconda-cloud": {},
  "kernelspec": {
   "display_name": "Python [default]",
   "language": "python",
   "name": "python3"
  },
  "language_info": {
   "codemirror_mode": {
    "name": "ipython",
    "version": 3
   },
   "file_extension": ".py",
   "mimetype": "text/x-python",
   "name": "python",
   "nbconvert_exporter": "python",
   "pygments_lexer": "ipython3",
   "version": "3.5.2"
  }
 },
 "nbformat": 4,
 "nbformat_minor": 1
}
