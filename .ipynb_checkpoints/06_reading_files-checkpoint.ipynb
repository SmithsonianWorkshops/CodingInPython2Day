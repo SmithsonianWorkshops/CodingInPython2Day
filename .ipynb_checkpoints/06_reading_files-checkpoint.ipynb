{
 "cells": [
  {
   "cell_type": "markdown",
   "metadata": {
    "slideshow": {
     "slide_type": "slide"
    }
   },
   "source": [
    "# Reading files"
   ]
  },
  {
   "cell_type": "markdown",
   "metadata": {
    "slideshow": {
     "slide_type": "slide"
    }
   },
   "source": [
    "One of the most useful things that you can do with Python is read information from existing files. This is particular useful if you want to do something with, e.g. biological sequence data. Fortunately, this is pretty easy in Python. Say you want to read some sequence data in seqs.fasta. You can open the file and assign the whole file to a variable with the `open()` command."
   ]
  },
  {
   "cell_type": "code",
   "execution_count": null,
   "metadata": {
    "collapsed": true,
    "slideshow": {
     "slide_type": "fragment"
    }
   },
   "outputs": [],
   "source": [
    "seq_file = open(\"seqs.fasta\")"
   ]
  },
  {
   "cell_type": "markdown",
   "metadata": {
    "slideshow": {
     "slide_type": "slide"
    }
   },
   "source": [
    "Now `seq_file` is a variable representing the file. There are many useful things that you can do with files, but one method folks often use is `readlines()`. This method  places each line as an entry into a list. This allows you to use any function that you might use with a list. Let's use that method now and print out the lines that we read using a for loop, then close the file using `close()`."
   ]
  },
  {
   "cell_type": "code",
   "execution_count": null,
   "metadata": {
    "collapsed": false,
    "slideshow": {
     "slide_type": "fragment"
    }
   },
   "outputs": [],
   "source": [
    "for line in seq_file.readlines():\n",
    "    print(line)\n",
    "seq_file.close()"
   ]
  },
  {
   "cell_type": "markdown",
   "metadata": {
    "slideshow": {
     "slide_type": "fragment"
    }
   },
   "source": [
    "We closed the file at the end. Each time you want to loop through a file, you must either close it and open it again or use other methods to move back to the beginning of the file. This can get kind of annoying. Fortunately, there is a nicer way to open files and read their contents. This is the `with open() as` syntax. Here is an example of how to do the same thing we did above with the new syntax."
   ]
  },
  {
   "cell_type": "code",
   "execution_count": null,
   "metadata": {
    "collapsed": false
   },
   "outputs": [],
   "source": [
    "with open(\"seqs.fasta\") as seq_file:\n",
    "    for line in seq_file:\n",
    "        print(line)"
   ]
  },
  {
   "cell_type": "markdown",
   "metadata": {
    "slideshow": {
     "slide_type": "slide"
    }
   },
   "source": [
    "This is a much nicer way to deal with files. You might have also noticed that I didn't use `readlines()`. If you are simply iterating through a file and don't necessarily need the functionality of a list, you can just loop through the file object and it will automatically loop through each line.\n",
    "\n",
    "You can also use logic within the for loop to do something more interesting. Let's print only the lines of the fasta file that aren't headers."
   ]
  },
  {
   "cell_type": "code",
   "execution_count": null,
   "metadata": {
    "collapsed": false,
    "slideshow": {
     "slide_type": "fragment"
    }
   },
   "outputs": [],
   "source": [
    "with open(\"seqs.fasta\") as seq_file:\n",
    "    for line in seq_file:\n",
    "        if line[0] != \">\":\n",
    "            print(line)"
   ]
  }
 ],
 "metadata": {
  "celltoolbar": "Slideshow",
  "kernelspec": {
   "display_name": "Python 3",
   "language": "python",
   "name": "python3"
  },
  "language_info": {
   "codemirror_mode": {
    "name": "ipython",
    "version": 3
   },
   "file_extension": ".py",
   "mimetype": "text/x-python",
   "name": "python",
   "nbconvert_exporter": "python",
   "pygments_lexer": "ipython3",
   "version": "3.5.1"
  }
 },
 "nbformat": 4,
 "nbformat_minor": 0
}
