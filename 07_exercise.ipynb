{
 "cells": [
  {
   "cell_type": "markdown",
   "metadata": {},
   "source": [
    "During this exercise, you will read in a file called \"sequences.txt\" that will contain 1 or more DNA sequences -- 1 per line. Here are example file contents of what your file might look like:\n",
    "\n",
    "```\n",
    "AGCTCGATCGATACG\n",
    "GGCTCTCAAG\n",
    "CTAGCTAGACGA\n",
    "```\n",
    "\n",
    "Calculate the GC content for each sequence, and only print out the highest GC content value.\n"
   ]
  },
  {
   "cell_type": "code",
   "execution_count": null,
   "metadata": {
    "collapsed": true
   },
   "outputs": [],
   "source": [
    "# Read in the file\n",
    "    # Loop through the contents\n",
    "        # Keep track of the GC content\n",
    "        \n",
    "# Return the highest GC content"
   ]
  }
 ],
 "metadata": {
  "kernelspec": {
   "display_name": "Python 3",
   "language": "python",
   "name": "python3"
  },
  "language_info": {
   "codemirror_mode": {
    "name": "ipython",
    "version": 3
   },
   "file_extension": ".py",
   "mimetype": "text/x-python",
   "name": "python",
   "nbconvert_exporter": "python",
   "pygments_lexer": "ipython3",
   "version": "3.5.1"
  }
 },
 "nbformat": 4,
 "nbformat_minor": 0
}
