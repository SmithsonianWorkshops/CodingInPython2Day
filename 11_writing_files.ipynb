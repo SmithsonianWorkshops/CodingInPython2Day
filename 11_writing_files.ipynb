{
 "cells": [
  {
   "cell_type": "markdown",
   "metadata": {},
   "source": [
    "## Writing files\n",
    "\n",
    "One of the nice things about Python is that writing families is simple. The syntax is very similar to what you use when reading families, you just have to add an argument to the open function. For example, when you use the open function to open a file, you use something like:\n",
    "```\n",
    "with open('infilename.txt') as infile:\n",
    "```\n",
    "What you don't see is that there is a hidden argument, whose default value is `'r'`, which stands for 'open for reading'. If you want to open a file for writing, you add a `'w'`, e.g.:\n",
    "```\n",
    "with open('outfilename.txt', 'w') as outfile:\n",
    "```\n",
    "Then to write to the file, you can just use the `.write()` method. In this case, it would go something like `outfile.write(\"some_stuff\")`. Let's give it a try by opening our `seqs.fasta` file and writing out only the headers."
   ]
  },
  {
   "cell_type": "code",
   "execution_count": 3,
   "metadata": {
    "collapsed": true
   },
   "outputs": [],
   "source": [
    "with open('seqs.fasta') as infile:\n",
    "    with open('seq_headers.txt', 'w') as outfile:\n",
    "        for line in infile:\n",
    "            if line[0] == '>':\n",
    "                outfile.write(line)"
   ]
  },
  {
   "cell_type": "markdown",
   "metadata": {},
   "source": [
    "Let's take a look at the outfile."
   ]
  },
  {
   "cell_type": "code",
   "execution_count": 4,
   "metadata": {
    "collapsed": false
   },
   "outputs": [
    {
     "name": "stdout",
     "output_type": "stream",
     "text": [
      ">First\r\n",
      ">Second\r\n",
      ">Third\r\n"
     ]
    }
   ],
   "source": [
    "!cat seq_headers.txt"
   ]
  },
  {
   "cell_type": "markdown",
   "metadata": {},
   "source": [
    "Whenever you use `'w'` for writing to a file, it will create a new file with your filename, or overwrite any existing files with the same filename.\n",
    "\n",
    "If you want to open a file and write to the end of it, you can use `'a'`, which stands for `append`. Now imagine for some reason we want to append the three sequences from `seqs.fasta` to our outfile. Here is a way that you can do that:"
   ]
  },
  {
   "cell_type": "code",
   "execution_count": 5,
   "metadata": {
    "collapsed": true
   },
   "outputs": [],
   "source": [
    "with open('seqs.fasta') as infile:\n",
    "    with open('seq_headers.txt', 'a') as outfile:\n",
    "        for line in infile:\n",
    "            if line[0] != '>':\n",
    "                outfile.write(line)"
   ]
  },
  {
   "cell_type": "markdown",
   "metadata": {},
   "source": [
    "Now let's take a look at the resulting outfile"
   ]
  }
 ],
 "metadata": {
  "kernelspec": {
   "display_name": "Python 3",
   "language": "python",
   "name": "python3"
  },
  "language_info": {
   "codemirror_mode": {
    "name": "ipython",
    "version": 3
   },
   "file_extension": ".py",
   "mimetype": "text/x-python",
   "name": "python",
   "nbconvert_exporter": "python",
   "pygments_lexer": "ipython3",
   "version": "3.5.1"
  }
 },
 "nbformat": 4,
 "nbformat_minor": 0
}
