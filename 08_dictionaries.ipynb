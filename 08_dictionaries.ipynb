{
 "cells": [
  {
   "cell_type": "markdown",
   "metadata": {},
   "source": [
    "# Dictionaries"
   ]
  },
  {
   "cell_type": "markdown",
   "metadata": {},
   "source": [
    "![](https://raw.githubusercontent.com/SmithsonianWorkshops/CodingInPython2Day/master/images/dictionary.jpg)"
   ]
  },
  {
   "cell_type": "markdown",
   "metadata": {},
   "source": [
    "The final major **data structure** we'll teach you in this class is called a Python **dictionary**. Essentially, a dictionary acts as a \"lookup table\" -- just like a real life dictionary. If you're wondering what a definition of a particular word is (pretend this is 20ish years ago, before Google), you open up a dictionary starting around where you expect that word to be alphabetically, and flip the pages forwards or backwards until you find it. The definition is listed right next to that word."
   ]
  },
  {
   "cell_type": "markdown",
   "metadata": {},
   "source": [
    "Let's start with an example that hopefully illustrates how a dictionary can be useful in programming. Pretend you have a data file of occurences that lists the location and country of a particular species. It looks something like this:\n",
    "\n",
    "| occurenceID | locality | country |\n",
    "|-------------|----------------|--------------------------|\n",
    "| ABC001 | Washington, DC | United States of America |\n",
    "| ABC002 | Mexico City | Mexico |\n",
    "| ABC003 | New York City | USA |\n",
    "| ABC004 | Toronto | Canada |\n",
    "| ABC005 | Miami | USA |\n",
    "| ... | ... | ... |\n",
    "\n",
    "Through the magic of Python, you've parsed this file and now you have all of the values for the country column in a Python list."
   ]
  },
  {
   "cell_type": "code",
   "execution_count": 1,
   "metadata": {
    "collapsed": true
   },
   "outputs": [],
   "source": [
    "countries = ['United States of America',\n",
    "            'Mexico',\n",
    "            'USA',\n",
    "            'Canada',\n",
    "            'USA']"
   ]
  },
  {
   "cell_type": "markdown",
   "metadata": {},
   "source": [
    "Now, knowing what we've covered so far in class, how would you answer the question of how many of these occurrences were in the USA?"
   ]
  },
  {
   "cell_type": "code",
   "execution_count": 2,
   "metadata": {
    "collapsed": false
   },
   "outputs": [
    {
     "name": "stdout",
     "output_type": "stream",
     "text": [
      "3\n"
     ]
    }
   ],
   "source": [
    "usa_counter = 0\n",
    "for country in countries:\n",
    "    if country == 'United States of America':\n",
    "        usa_counter += 1\n",
    "    elif country == 'USA':\n",
    "        usa_counter += 1\n",
    "print(usa_counter)"
   ]
  },
  {
   "cell_type": "markdown",
   "metadata": {},
   "source": [
    "Ok, we were able to figure that one out, but now imagine that the list is actually much longer, and we see a mix of country codes and full country names for other countries too. We start to get to a point, but trying to handle this with *if* statements gets out of control.\n",
    "\n",
    "A big advantage of programming is to write code that we can use over and over again. We can use dictionaries to "
   ]
  },
  {
   "cell_type": "code",
   "execution_count": 3,
   "metadata": {
    "collapsed": true
   },
   "outputs": [],
   "source": [
    "country_codes = {'CAN': 'Canada',\n",
    "                 'MEX': 'Mexico',\n",
    "                 'USA': 'United States of America'}"
   ]
  },
  {
   "cell_type": "markdown",
   "metadata": {},
   "source": [
    "Looking up a value using a key..."
   ]
  },
  {
   "cell_type": "code",
   "execution_count": 4,
   "metadata": {
    "collapsed": false
   },
   "outputs": [
    {
     "name": "stdout",
     "output_type": "stream",
     "text": [
      "United States of America\n"
     ]
    }
   ],
   "source": [
    "print(country_codes['USA'])"
   ]
  },
  {
   "cell_type": "markdown",
   "metadata": {},
   "source": [
    "Adding a new entry to dictionary..."
   ]
  },
  {
   "cell_type": "code",
   "execution_count": 5,
   "metadata": {
    "collapsed": false
   },
   "outputs": [
    {
     "name": "stdout",
     "output_type": "stream",
     "text": [
      "Guatemala\n"
     ]
    }
   ],
   "source": [
    "country_codes['GTM'] = 'Guatemala'\n",
    "print(country_codes['GTM'])"
   ]
  },
  {
   "cell_type": "markdown",
   "metadata": {},
   "source": [
    "Combining dictionaries (not as easy as dict1 + dict2)"
   ]
  },
  {
   "cell_type": "code",
   "execution_count": 6,
   "metadata": {
    "collapsed": false
   },
   "outputs": [
    {
     "name": "stdout",
     "output_type": "stream",
     "text": [
      "{'CAN': 'Canada', 'NIC': 'Nicaragua', 'GTM': 'Guatemala', 'SLV': 'El Salvador', 'BLZ': 'Belize', 'USA': 'United States of America', 'HND': 'Honduras', 'MEX': 'Mexico'}\n"
     ]
    }
   ],
   "source": [
    "more_country_codes = {'BLZ': 'Belize',\n",
    "                      'SLV': 'El Salvador',\n",
    "                      'HND': 'Honduras',\n",
    "                      'NIC': 'Nicaragua',\n",
    "                      'USA': 'United States of America'}\n",
    "country_codes.update(more_country_codes)\n",
    "print(country_codes)"
   ]
  },
  {
   "cell_type": "markdown",
   "metadata": {},
   "source": [
    "A for-loop on a dictionary by itself only gives you the key."
   ]
  },
  {
   "cell_type": "code",
   "execution_count": 7,
   "metadata": {
    "collapsed": false
   },
   "outputs": [
    {
     "name": "stdout",
     "output_type": "stream",
     "text": [
      "CAN\n",
      "NIC\n",
      "GTM\n",
      "SLV\n",
      "BLZ\n",
      "USA\n",
      "HND\n",
      "MEX\n"
     ]
    }
   ],
   "source": [
    "for code in country_codes:\n",
    "    print(code)"
   ]
  },
  {
   "cell_type": "markdown",
   "metadata": {},
   "source": [
    "To access both key and value of dictionary at the same time, you need to use items() method."
   ]
  },
  {
   "cell_type": "code",
   "execution_count": 8,
   "metadata": {
    "collapsed": false
   },
   "outputs": [
    {
     "name": "stdout",
     "output_type": "stream",
     "text": [
      "CAN Canada\n",
      "NIC Nicaragua\n",
      "GTM Guatemala\n",
      "SLV El Salvador\n",
      "BLZ Belize\n",
      "USA United States of America\n",
      "HND Honduras\n",
      "MEX Mexico\n"
     ]
    }
   ],
   "source": [
    "for key, value in country_codes.items():\n",
    "    print(key, value)"
   ]
  },
  {
   "cell_type": "markdown",
   "metadata": {},
   "source": [
    "Example of a nested dict..."
   ]
  },
  {
   "cell_type": "code",
   "execution_count": 9,
   "metadata": {
    "collapsed": false
   },
   "outputs": [],
   "source": [
    "two_letter_codes = {'BZ': 'Belize',\n",
    "                    'CN': 'Canada',\n",
    "                    'HN': 'Honduras',\n",
    "                    'MX': 'Mexico',\n",
    "                    'NI': 'Nicaragua',\n",
    "                    'US': 'United States of America',\n",
    "                    'SV': 'El Salvador',\n",
    "                    'GT': 'Guatemala'}"
   ]
  },
  {
   "cell_type": "code",
   "execution_count": 10,
   "metadata": {
    "collapsed": true
   },
   "outputs": [],
   "source": [
    "country_lookup = {2: two_letter_codes,\n",
    "                  3: country_codes}"
   ]
  },
  {
   "cell_type": "code",
   "execution_count": 11,
   "metadata": {
    "collapsed": false
   },
   "outputs": [
    {
     "name": "stdout",
     "output_type": "stream",
     "text": [
      "{\n",
      "  \"2\": {\n",
      "    \"BZ\": \"Belize\",\n",
      "    \"CN\": \"Canada\",\n",
      "    \"GT\": \"Guatemala\",\n",
      "    \"HN\": \"Honduras\",\n",
      "    \"MX\": \"Mexico\",\n",
      "    \"NI\": \"Nicaragua\",\n",
      "    \"SV\": \"El Salvador\",\n",
      "    \"US\": \"United States of America\"\n",
      "  },\n",
      "  \"3\": {\n",
      "    \"BLZ\": \"Belize\",\n",
      "    \"CAN\": \"Canada\",\n",
      "    \"GTM\": \"Guatemala\",\n",
      "    \"HND\": \"Honduras\",\n",
      "    \"MEX\": \"Mexico\",\n",
      "    \"NIC\": \"Nicaragua\",\n",
      "    \"SLV\": \"El Salvador\",\n",
      "    \"USA\": \"United States of America\"\n",
      "  }\n",
      "}\n"
     ]
    }
   ],
   "source": [
    "import json\n",
    "print(json.dumps(country_lookup, indent=2, sort_keys=True))"
   ]
  },
  {
   "cell_type": "markdown",
   "metadata": {},
   "source": [
    "Bringing it all together for final example, with new bigger list..."
   ]
  },
  {
   "cell_type": "code",
   "execution_count": 12,
   "metadata": {
    "collapsed": false
   },
   "outputs": [],
   "source": [
    "country_list = ['MEX','United States of America', 'Mexico', 'USA', 'Canada', 'USA', 'NIC',\n",
    "                'SLV', 'El Salvador', 'CAN', 'GTM', 'Guatemala', 'BEL']"
   ]
  },
  {
   "cell_type": "markdown",
   "metadata": {},
   "source": [
    "Two ways of showing a dictionary KeyError, that we'll work through in class."
   ]
  },
  {
   "cell_type": "code",
   "execution_count": 13,
   "metadata": {
    "collapsed": false
   },
   "outputs": [
    {
     "name": "stdout",
     "output_type": "stream",
     "text": [
      "Mexico\n"
     ]
    },
    {
     "ename": "KeyError",
     "evalue": "'Mexico'",
     "output_type": "error",
     "traceback": [
      "\u001b[1;31m---------------------------------------------------------------------------\u001b[0m",
      "\u001b[1;31mKeyError\u001b[0m                                  Traceback (most recent call last)",
      "\u001b[1;32m<ipython-input-13-b6da0e7535a2>\u001b[0m in \u001b[0;36m<module>\u001b[1;34m()\u001b[0m\n\u001b[0;32m      6\u001b[0m         \u001b[0mcountry\u001b[0m \u001b[1;33m=\u001b[0m \u001b[0mcountry_lookup\u001b[0m\u001b[1;33m[\u001b[0m\u001b[1;36m3\u001b[0m\u001b[1;33m]\u001b[0m\u001b[1;33m[\u001b[0m\u001b[0mcountry\u001b[0m\u001b[1;33m]\u001b[0m\u001b[1;33m\u001b[0m\u001b[0m\n\u001b[0;32m      7\u001b[0m     \u001b[0mprint\u001b[0m\u001b[1;33m(\u001b[0m\u001b[0mcountry\u001b[0m\u001b[1;33m)\u001b[0m\u001b[1;33m\u001b[0m\u001b[0m\n\u001b[1;32m----> 8\u001b[1;33m     \u001b[0mcountry_counter\u001b[0m\u001b[1;33m[\u001b[0m\u001b[0mcountry\u001b[0m\u001b[1;33m]\u001b[0m \u001b[1;33m+=\u001b[0m \u001b[1;36m1\u001b[0m\u001b[1;33m\u001b[0m\u001b[0m\n\u001b[0m\u001b[0;32m      9\u001b[0m \u001b[1;33m\u001b[0m\u001b[0m\n\u001b[0;32m     10\u001b[0m \u001b[0mprint\u001b[0m\u001b[1;33m(\u001b[0m\u001b[0mcountry_counter\u001b[0m\u001b[1;33m)\u001b[0m\u001b[1;33m\u001b[0m\u001b[0m\n",
      "\u001b[1;31mKeyError\u001b[0m: 'Mexico'"
     ]
    }
   ],
   "source": [
    "country_counter = {}\n",
    "for country in country_list:\n",
    "    if len(country) == 2:\n",
    "        country = country_lookup[2][country]\n",
    "    elif len(country) == 3:\n",
    "        country = country_lookup[3][country]\n",
    "    print(country)\n",
    "    country_counter[country] += 1\n",
    "        \n",
    "print(country_counter)"
   ]
  },
  {
   "cell_type": "code",
   "execution_count": null,
   "metadata": {
    "collapsed": true
   },
   "outputs": [],
   "source": []
  }
 ],
 "metadata": {
  "anaconda-cloud": {},
  "kernelspec": {
   "display_name": "Python [default]",
   "language": "python",
   "name": "python3"
  },
  "language_info": {
   "codemirror_mode": {
    "name": "ipython",
    "version": 3
   },
   "file_extension": ".py",
   "mimetype": "text/x-python",
   "name": "python",
   "nbconvert_exporter": "python",
   "pygments_lexer": "ipython3",
   "version": "3.5.2"
  }
 },
 "nbformat": 4,
 "nbformat_minor": 0
}
