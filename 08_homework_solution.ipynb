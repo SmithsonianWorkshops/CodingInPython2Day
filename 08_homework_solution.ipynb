{
 "cells": [
  {
   "cell_type": "markdown",
   "metadata": {},
   "source": [
    "# Homework 4"
   ]
  },
  {
   "cell_type": "markdown",
   "metadata": {},
   "source": [
    "Your Week 4 homework assignment will build on the assignment from Week 3.\n",
    "\n",
    "Again, you will be provided a text file called \"test_sequences.txt\" that contains DNA sequences line-by-line.\n",
    "\n",
    "### Your goal this week will be to find the correct reading frame for each sequence, and print its amino acid translation."
   ]
  },
  {
   "cell_type": "markdown",
   "metadata": {},
   "source": [
    "To give you a little bit of a headstart, I provided a file called 'standard_code.tsv', and here is some good Pythonic code that shows how to parse it."
   ]
  },
  {
   "cell_type": "code",
   "execution_count": 2,
   "metadata": {
    "collapsed": false
   },
   "outputs": [],
   "source": [
    "import csv\n",
    "\n",
    "codon_codes = {}\n",
    "with open('standard_code.tsv', 'r') as infile:\n",
    "    reader = csv.DictReader(infile, delimiter='\\t')\n",
    "    for row in reader:\n",
    "        codon_codes[row['Codon']] = row['Amino Acid']"
   ]
  },
  {
   "cell_type": "code",
   "execution_count": 3,
   "metadata": {
    "collapsed": false
   },
   "outputs": [
    {
     "name": "stdout",
     "output_type": "stream",
     "text": [
      "L\n"
     ]
    }
   ],
   "source": [
    "print(codon_codes['TTA'])"
   ]
  },
  {
   "cell_type": "code",
   "execution_count": 7,
   "metadata": {
    "collapsed": false
   },
   "outputs": [
    {
     "name": "stdout",
     "output_type": "stream",
     "text": [
      "1269\n",
      "1\n",
      "ENLMGMQAAIEQAMKSHEILGISDPQTLAHVLTVGVQSSLNDPRLFISYEPSTLEAPQQAPALTDLTREELLAQIQRNIRHEVLEDNVGYLRVDDLPGQEVLSELGEFLVSHVWKQLTGTSSLVLDLRHCAGGHVSGIPYVISYLHPGNTVLHVDTIYDRPSNTTTEIWTLPKVLGERYSADKDVVVLTSGHTGGVAEDIAYILKQMRRAIVVGERTEGGALDLQKLRIGQSDFFLTVPVSRSLGPLGGGGQTWEGSGVLPCVGIPAEQALEKALAILTLRRALPGVVLRLQEALQDYYTLVDRVPGLLHHLASMDYSAVVSEEDLVTKLNAGLQAVSEDPRLLVRATGPRETPSRPETGPNEPPAVTPEVPKEEDARRALVDSVFQVSVLPGNVGYLRFDRFADASVLKTLGPYVLRQVWEP\n",
      "2\n",
      "stop codon found\n",
      "3\n",
      "stop codon found\n",
      "1262\n",
      "1\n",
      "stop codon found\n",
      "2\n",
      "stop codon found\n",
      "3\n",
      "QEPRGLEVPPTDAPAISTTPYVEDTPEPPLHSFYCSKLLDLVFLLDGSSRLSEAEFEVLKTFVVGMMERLHISQKRIRVAVVEYHEGSHAYIELKDRKRPSELRHITSRVKYPGSQVAATSQVLKYVLFQIFGRIDRPEASRIMLLLTASHEPKTSRNFLRYIQGLKKKKVILIPVGIGPHADLKQIHLIEKQAPENKAFLLSGVDELEQRRDEIINYLCDLAPEAPAPKQPPQVAQVTTGPGLFGVSSPGPKRKSLVLDVVFVLEGSDKIGEASFNRSKEFLEEVIQRMDVGGGGIHIAVLQYSYMVTVEYTFNDAQSKRDVLQQVREMRYHGGNRTNTGLALQYLSEHSFSASQGDREEAPNLVYMVTGNPASDEIRRLPGDIQVVPIGVGPHANMQELERIGWPNAPIFIQDFEMLP\n",
      "922\n",
      "1\n",
      "stop codon found\n",
      "2\n",
      "FFGGRSYMPSNQRTTEKWNSVADCLPHVFLVDFEFGCATSYILPELQDGLSFHVSIAKSDTIYILGGHSLANNIRPTNLYRIKVDLPLGSPAVSCTVLPGGISVSSAILTQTNNDEFVIVGGYQLENQKRMVCNIVSLEDNNIEIREMETPDWTPDIKHSKIWFGSNMGNGTVFLGIPGDNKQAVSEAFYFYTLKCSEDDVTEDHKTFTNSQASTEDPGDSTPFEDSEEFCFSAEANSFDGDDEFDTYNEDDEEDESVTGYWITCCPTCDVDINTWVPFYSTELNKPAMIYCSHGDGHWVHAQCMGL\n",
      "3\n",
      "stop codon found\n",
      "475\n",
      "1\n",
      "stop codon found\n",
      "2\n",
      "stop codon found\n",
      "3\n",
      "stop codon found\n"
     ]
    }
   ],
   "source": [
    "#read in test_sequences.txt line by line\n",
    "with open('test_sequences.txt') as seq_file:\n",
    "    #cycle through each sequence\n",
    "    for sequence in seq_file:\n",
    "        sequence = sequence.strip()\n",
    "        #find sequence length\n",
    "        print(len(sequence))\n",
    "        #cycle through each reading frame (0, 1, and 2)\n",
    "        for reading_frame in range(0,3,1):\n",
    "            print(reading_frame+1)\n",
    "            #initialize amino acid sequence\n",
    "            aa_sequence = ''\n",
    "            #cycle through each sequence in chunks of 3\n",
    "            for i in range(reading_frame, len(sequence), 3):\n",
    "                #actually create each chunk of 3 DNA nucleotides\n",
    "                chunk = sequence[i:i+3]\n",
    "                #check to see chunk is codon, so that it exists in dictionary\n",
    "                if len(chunk) == 3:\n",
    "                    aa = codon_codes[chunk]\n",
    "                    aa_sequence += aa\n",
    "            if '*' not in aa_sequence:\n",
    "                print(aa_sequence)\n",
    "            else:\n",
    "                print('stop codon found')"
   ]
  },
  {
   "cell_type": "code",
   "execution_count": 4,
   "metadata": {
    "collapsed": true
   },
   "outputs": [],
   "source": [
    "?range()"
   ]
  },
  {
   "cell_type": "code",
   "execution_count": null,
   "metadata": {
    "collapsed": true
   },
   "outputs": [],
   "source": []
  }
 ],
 "metadata": {
  "kernelspec": {
   "display_name": "Python 3",
   "language": "python",
   "name": "python3"
  },
  "language_info": {
   "codemirror_mode": {
    "name": "ipython",
    "version": 3
   },
   "file_extension": ".py",
   "mimetype": "text/x-python",
   "name": "python",
   "nbconvert_exporter": "python",
   "pygments_lexer": "ipython3",
   "version": "3.5.1"
  }
 },
 "nbformat": 4,
 "nbformat_minor": 0
}
