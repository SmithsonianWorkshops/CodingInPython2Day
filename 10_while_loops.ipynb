{
 "cells": [
  {
   "cell_type": "markdown",
   "metadata": {},
   "source": [
    "## While Loops"
   ]
  },
  {
   "cell_type": "markdown",
   "metadata": {},
   "source": [
    "We already learned about `for` loops. A `while` loop takes the same concept, but, instead of iterating through some data structure, it continues iterating until some condition is met.\n",
    "\n",
    "For example, until your count reaches 10."
   ]
  },
  {
   "cell_type": "code",
   "execution_count": 1,
   "metadata": {
    "collapsed": false
   },
   "outputs": [
    {
     "name": "stdout",
     "output_type": "stream",
     "text": [
      "0\n",
      "1\n",
      "2\n",
      "3\n",
      "4\n",
      "5\n",
      "6\n",
      "7\n",
      "8\n",
      "9\n",
      "10\n"
     ]
    }
   ],
   "source": [
    "count = 0\n",
    "while count <= 10:\n",
    "    print(count)\n",
    "    count += 1"
   ]
  },
  {
   "cell_type": "markdown",
   "metadata": {},
   "source": [
    "You should be careful when you are using `while` loops as it can be easy to enter an infinite loop. When I first started programming, a file that I wrote to within an infinite `while` loop grew to over 100 GB before I realized what was going on and stopped the program. Control + c is a useful command in these cases!"
   ]
  },
  {
   "cell_type": "markdown",
   "metadata": {},
   "source": [
    "Let's write another `while` loop that prints out even numbers from 2 to 30."
   ]
  },
  {
   "cell_type": "code",
   "execution_count": 2,
   "metadata": {
    "collapsed": false
   },
   "outputs": [],
   "source": [
    "# Code for printing out even numbers up to 30\n"
   ]
  },
  {
   "cell_type": "markdown",
   "metadata": {},
   "source": [
    "Other times that you might want to use a `while` loop are when you are using a heuristic algorithm and want to run it until the values fall within some predefined tolerance. You also might want to use a `while` loop to continue to ask for input until the input values are something you expect, for example:"
   ]
  },
  {
   "cell_type": "code",
   "execution_count": 5,
   "metadata": {
    "collapsed": false
   },
   "outputs": [
    {
     "name": "stdout",
     "output_type": "stream",
     "text": [
      "Enter a 5 letter word:nope\n",
      "The word \"nope\" isn't 5 letters, please enter a 5 letter word:let go\n",
      "The word \"let go\" isn't 5 letters, please enter a 5 letter word:why not?\n",
      "The word \"why not?\" isn't 5 letters, please enter a 5 letter word:youse\n",
      "Well done, youse is a five letter word.\n"
     ]
    }
   ],
   "source": [
    "i = input(\"Enter a 5 letter word:\")\n",
    "while len(i) != 5:\n",
    "    i = input(\"The word \\\"\" + i + \"\\\" isn't 5 letters, please enter a 5 letter word:\")\n",
    "    \n",
    "print(\"Well done, \\\"\" + i + \"\\\" is a five letter word.\")"
   ]
  },
  {
   "cell_type": "code",
   "execution_count": null,
   "metadata": {
    "collapsed": true
   },
   "outputs": [],
   "source": []
  }
 ],
 "metadata": {
  "kernelspec": {
   "display_name": "Python 3",
   "language": "python",
   "name": "python3"
  },
  "language_info": {
   "codemirror_mode": {
    "name": "ipython",
    "version": 3
   },
   "file_extension": ".py",
   "mimetype": "text/x-python",
   "name": "python",
   "nbconvert_exporter": "python",
   "pygments_lexer": "ipython3",
   "version": "3.5.1"
  }
 },
 "nbformat": 4,
 "nbformat_minor": 0
}
