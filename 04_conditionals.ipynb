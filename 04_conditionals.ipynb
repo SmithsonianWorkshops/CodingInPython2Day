{
 "cells": [
  {
   "cell_type": "markdown",
   "metadata": {
    "collapsed": true
   },
   "source": [
    "# Conditionals"
   ]
  },
  {
   "cell_type": "markdown",
   "metadata": {},
   "source": [
    "![](https://raw.githubusercontent.com/SmithsonianWorkshops/CodingInPython2Day/master/images/conditionals.jpg)"
   ]
  },
  {
   "cell_type": "markdown",
   "metadata": {},
   "source": [
    "The way to write a conditional statement in Python is like this:\n",
    "\n",
    "![](https://raw.githubusercontent.com/SmithsonianWorkshops/CodingInPython/master/images/conditional_diagram.png)"
   ]
  },
  {
   "cell_type": "markdown",
   "metadata": {},
   "source": [
    "There are 3 important **keywords** to know when using conditional statements:\n",
    "* if\n",
    "* elif\n",
    "* else\n",
    "\n",
    "They must be used in this order.\n",
    "\n",
    "Here's an example..."
   ]
  },
  {
   "cell_type": "code",
   "execution_count": 1,
   "metadata": {
    "collapsed": false
   },
   "outputs": [
    {
     "name": "stdout",
     "output_type": "stream",
     "text": [
      "Base is a nucleotide\n"
     ]
    }
   ],
   "source": [
    "base = 'A'\n",
    "\n",
    "if base == 'A':\n",
    "    print('Base is a nucleotide')\n",
    "elif base == 'G':\n",
    "    print('Base is a nucleotide')\n",
    "elif base == 'T':\n",
    "    print('Base is a nucleotide')\n",
    "elif base == 'C':\n",
    "    print('Base is a nucleotide')\n",
    "else:\n",
    "    print('Base is NOT a nucleotide')"
   ]
  },
  {
   "cell_type": "markdown",
   "metadata": {},
   "source": [
    "In the above example, our **boolean expression** is testing whether our variable is equal to a value. We can also test a lot of other things like greater than/less than, whether a value is in a list, etc."
   ]
  },
  {
   "cell_type": "code",
   "execution_count": 2,
   "metadata": {
    "collapsed": true
   },
   "outputs": [],
   "source": [
    "x = 5\n",
    "\n",
    "if x > 10:\n",
    "    print(\"Uh oh, our variable is too big\")"
   ]
  },
  {
   "cell_type": "code",
   "execution_count": 3,
   "metadata": {
    "collapsed": false
   },
   "outputs": [
    {
     "name": "stdout",
     "output_type": "stream",
     "text": [
      "This country is part of NAFTA\n"
     ]
    }
   ],
   "source": [
    "list_of_countries = ['USA','MEX','CAN']\n",
    "\n",
    "test_country = 'USA'\n",
    "\n",
    "if test_country in list_of_countries:\n",
    "    print('This country is part of NAFTA')"
   ]
  },
  {
   "cell_type": "markdown",
   "metadata": {},
   "source": [
    "You can also combine multiple boolean expressions together using \"and\" \"or\".\n",
    "\n",
    "We can re-write our nucleotide test above to use \"or\" values to make things more concise."
   ]
  },
  {
   "cell_type": "code",
   "execution_count": 4,
   "metadata": {
    "collapsed": false
   },
   "outputs": [
    {
     "name": "stdout",
     "output_type": "stream",
     "text": [
      "Base is a nucleotide\n"
     ]
    }
   ],
   "source": [
    "base = 'A'\n",
    "\n",
    "if base == 'A' or base == 'G' or base == 'T' or base == 'C':\n",
    "    print('Base is a nucleotide')\n",
    "else:\n",
    "    print('Base is NOT a nucleotide')"
   ]
  },
  {
   "cell_type": "markdown",
   "metadata": {},
   "source": [
    "## Exercise\n",
    "Can you re-write the nucleotide test again so that it checks against a list? Also, improve the test so that it doesn't matter if the base is upper case or lower case."
   ]
  },
  {
   "cell_type": "code",
   "execution_count": null,
   "metadata": {
    "collapsed": true
   },
   "outputs": [],
   "source": []
  }
 ],
 "metadata": {
  "anaconda-cloud": {},
  "kernelspec": {
   "display_name": "Python [conda root]",
   "language": "python",
   "name": "conda-root-py"
  },
  "language_info": {
   "codemirror_mode": {
    "name": "ipython",
    "version": 3
   },
   "file_extension": ".py",
   "mimetype": "text/x-python",
   "name": "python",
   "nbconvert_exporter": "python",
   "pygments_lexer": "ipython3",
   "version": "3.5.2"
  }
 },
 "nbformat": 4,
 "nbformat_minor": 1
}
